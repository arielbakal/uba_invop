{
 "cells": [
  {
   "cell_type": "code",
   "execution_count": 18,
   "metadata": {},
   "outputs": [],
   "source": [
    "from cplex_config import solve_cplex"
   ]
  },
  {
   "cell_type": "code",
   "execution_count": 19,
   "metadata": {},
   "outputs": [
    {
     "name": "stdout",
     "output_type": "stream",
     "text": [
      "Version identifier: 22.1.2.0 | 2024-12-09 | 8bd2200c8\n",
      "CPXPARAM_Read_DataCheck                          1\n",
      "Tried aggregator 1 time.\n",
      "No LP presolve or aggregator reductions.\n",
      "Presolve time = 0.00 sec. (0.00 ticks)\n",
      "\n",
      "Iteration log . . .\n",
      "Iteration:     1   Dual infeasibility =             2.499997\n",
      "--------------------------------------------------\n",
      "Estado de la solución: optimal\n",
      "Valor objetivo: -178.99999999999997\n",
      "Solución: [0.0, 0.0, 15.5, 7.0]\n"
     ]
    }
   ],
   "source": [
    "var_names = [\"x1\", \"x2\", \"x3\", \"x4\"]\n",
    "lower_bounds = [0, 0, 0, 0]\n",
    "objective_coefficients = [-5, -7, -12, 1]\n",
    "constraint_names = [\"Restricción 1\", \"Restricción 2\"]\n",
    "constraint_coefficient_rows = [\n",
    "    [2, 3, 2, 1],\n",
    "    [3, 2, 4, -1]\n",
    "]\n",
    "constraint_senses = [\"L\", \"L\"]\n",
    "constraint_bound_values = [38, 55]\n",
    "\n",
    "solve_cplex(False, var_names, lower_bounds, None, objective_coefficients, constraint_names, constraint_coefficient_rows, constraint_senses, constraint_bound_values)"
   ]
  }
 ],
 "metadata": {
  "kernelspec": {
   "display_name": "Python 3",
   "language": "python",
   "name": "python3"
  },
  "language_info": {
   "codemirror_mode": {
    "name": "ipython",
    "version": 3
   },
   "file_extension": ".py",
   "mimetype": "text/x-python",
   "name": "python",
   "nbconvert_exporter": "python",
   "pygments_lexer": "ipython3",
   "version": "3.11.4"
  }
 },
 "nbformat": 4,
 "nbformat_minor": 2
}
